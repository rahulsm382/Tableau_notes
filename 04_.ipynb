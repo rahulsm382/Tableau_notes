{
 "cells": [
  {
   "cell_type": "markdown",
   "metadata": {},
   "source": [
    "#### Naming conventions"
   ]
  },
  {
   "cell_type": "markdown",
   "metadata": {},
   "source": [
    "- snake_case\n",
    "- camelCase\n",
    "- PascalCase\n",
    "- kebab-case\n",
    "- Title Case  ( Tableau)\n"
   ]
  },
  {
   "cell_type": "markdown",
   "metadata": {},
   "source": [
    "\n",
    "<img src=\"screenshots/renaming.png\" alt=\"layers\" width=\"600\" height=\"400\">"
   ]
  },
  {
   "cell_type": "markdown",
   "metadata": {},
   "source": [
    "#### renaming fields"
   ]
  },
  {
   "cell_type": "markdown",
   "metadata": {},
   "source": [
    "Renaming Fields using name convention PascalCase\n",
    "- Data source page / Worksheet Page\n",
    "- globally/locally\n",
    "\n"
   ]
  },
  {
   "cell_type": "markdown",
   "metadata": {},
   "source": [
    "##### worksheet /globally\n"
   ]
  },
  {
   "cell_type": "markdown",
   "metadata": {},
   "source": [
    "1. DropDown\n",
    "   - right click on filed in data pane ->Rename\n",
    "2. Short cut\n",
    "   - click on field in data pane ->F2\n",
    "3. Click & hold\n",
    "   - click (field on pane ) - > hold and release\n",
    "\n",
    "\n"
   ]
  },
  {
   "cell_type": "code",
   "execution_count": null,
   "metadata": {},
   "outputs": [],
   "source": []
  },
  {
   "cell_type": "markdown",
   "metadata": {},
   "source": [
    "##### data source page"
   ]
  },
  {
   "cell_type": "markdown",
   "metadata": {},
   "source": [
    "1. data grid ->   Order_Id -> right click ->dropdown ->rename\n",
    "2. metadata grid -> dbl click\n"
   ]
  },
  {
   "cell_type": "markdown",
   "metadata": {},
   "source": [
    "### can reset every names back\n",
    "- data source page\n",
    "  - data grid -> order_id ->right_click ->Reset Name\n",
    "- work sheet\n",
    "  - datapane -> field  ->dbl click for rename -> there will be a reset icon \n",
    "- to reset all\n",
    "   - at data source page \n",
    "      - meta data grid  select order_id -> `ctrl` + select other fields -> Reset Names\n",
    "      "
   ]
  },
  {
   "cell_type": "markdown",
   "metadata": {},
   "source": [
    "- if do renaming in power bi it will break"
   ]
  },
  {
   "cell_type": "markdown",
   "metadata": {},
   "source": [
    "### Renaming locally\n",
    "- Continuous & discrete\n",
    "- axis ->right click ->edit axis ->axis title\n",
    "- for discrete fields\n",
    "  - Rows : Order_ID - > dbl click -> //Orders[Order_ID] -> `shift`+`Enter`\n",
    "  - double click ->copy name ([Category]) paste it in text editer -> <br>\n",
    "   // Categories <br>\n",
    "    [Category]\n",
    "  - paste this to that field\n",
    "  \n",
    "\n",
    "\n",
    "\n",
    "\n"
   ]
  },
  {
   "cell_type": "markdown",
   "metadata": {},
   "source": [
    "### Renaming tables  \n",
    " - rename in worksheet \n",
    "    - 1. data pane  -> right click ->rename\n",
    "    - 2. shortcut -> F2\n",
    "    - 3. right click + hold and and release\n",
    "\n",
    "\n"
   ]
  },
  {
   "cell_type": "markdown",
   "metadata": {},
   "source": [
    "-  at data source page\n",
    "   - at data model / meta data grid\n",
    "   - 1.on model right click on table and rename\n",
    "   - 2.at meta data grid click over customer.csv and rename\n",
    "    "
   ]
  },
  {
   "cell_type": "markdown",
   "metadata": {},
   "source": [
    "- Aliases\n",
    "   - poor data quality\n",
    "   - Either go to dataset and change / change in tableau\n",
    "   - names are too long\n",
    "   - \n"
   ]
  },
  {
   "cell_type": "markdown",
   "metadata": {},
   "source": [
    "- we create aliases only on worksheet page and not on data source page\n",
    "- we can create aliases only globally\n",
    "\n",
    "\n"
   ]
  },
  {
   "cell_type": "markdown",
   "metadata": {},
   "source": [
    "- Rows:Country\n",
    "- Columns:Score\n",
    "\n",
    "- Data pane -> Country ->right click ->Aliases -> Edit Aliases ->  change under Value(Alias)\n",
    "\n",
    "- its best practice to create a duplicate of a field and create alias(right click on field ->duplicate)\n",
    "- `=` sign will indicate duplicate\n"
   ]
  },
  {
   "cell_type": "markdown",
   "metadata": {},
   "source": [
    "\n",
    "#### reset aliases\n",
    " -  goto edit aliases -> clear Aliases "
   ]
  },
  {
   "cell_type": "markdown",
   "metadata": {},
   "source": [
    "#### create  aliases on view"
   ]
  },
  {
   "cell_type": "markdown",
   "metadata": {},
   "source": [
    "- in view -> on value (france a country name) ->right click ->edit allias ->FR- >ok\n"
   ]
  },
  {
   "cell_type": "markdown",
   "metadata": {},
   "source": [
    "## Organizing data"
   ]
  },
  {
   "cell_type": "markdown",
   "metadata": {},
   "source": [
    "- hierarchy\n",
    "- cluster\n",
    "- subset\n",
    "- bins"
   ]
  },
  {
   "cell_type": "markdown",
   "metadata": {},
   "source": [
    "#### hierarchy\n",
    "- Country -> City -> Postal code\n",
    "- All - > Root Node (TOP) (Highest level of aggregation) (level0)\n",
    "- Country -> USA / GERMANY -> level1\n",
    "- City USA(Portland,Seattle) , Germany(Stuttgart,Berlin) level2\n",
    "- Postal Code -> level3 -> Leaf nodes\n",
    " \n"
   ]
  },
  {
   "cell_type": "markdown",
   "metadata": {},
   "source": [
    "#### DRILL DOWN ,DRILL UP \n",
    "- olap operations,help to navigate through hierarchy\n",
    " \n",
    "<img src=\"screenshots/scc.png\" alt=\"layers\" width=\"600\" height=\"400\">"
   ]
  },
  {
   "cell_type": "markdown",
   "metadata": {},
   "source": [
    "### create hierarchy\n",
    "- can only create at worksheet page\n",
    "- hierarchy is represented with a tree symbol\n",
    "- hierarchy can be created only from dimensions and not measures\n",
    "- **can remove by ->right click ->remove** hierarchy\n",
    "- 1.to create select any dimention .no need to be the top level\n",
    "  - choose Country ->right click -> Hierarchy-> create hierarchy ->give a name - > ok \n",
    "  - drag and drop city bineath country (created hierarchy)\n",
    "- 2.Drag and drop inside a field -> will ask a hierarchy name\n",
    "\n",
    "\n",
    "\n"
   ]
  },
  {
   "cell_type": "markdown",
   "metadata": {},
   "source": [
    "#### Drill up & down\n",
    "- drag hierarchy into columns \n",
    "- drag sales to columns\n",
    "- `[+]` ther will be plus sign in field placed inside rows clicking it drill down\n",
    "- \n"
   ]
  },
  {
   "cell_type": "markdown",
   "metadata": {},
   "source": [
    "#### in view \n",
    "- Country will be visible as header ->hover on it can see `+`\n",
    "- or go to any of the values -> Germany -> right click ->Drill Down\n"
   ]
  },
  {
   "cell_type": "markdown",
   "metadata": {},
   "source": [
    "#### Date Hierarchy\n",
    "- Year \n",
    "- Quarter\n",
    "- Month\n",
    "- Day\n",
    "- hour\n",
    "- minutes\n",
    "- seconds\n",
    "\n"
   ]
  },
  {
   "cell_type": "markdown",
   "metadata": {},
   "source": [
    "#### Group Members of Dimension\n"
   ]
  },
  {
   "cell_type": "markdown",
   "metadata": {},
   "source": [
    "- groups \n",
    "- cluster groups\n",
    "- sets"
   ]
  },
  {
   "cell_type": "markdown",
   "metadata": {},
   "source": [
    "#### Groups"
   ]
  },
  {
   "cell_type": "markdown",
   "metadata": {},
   "source": [
    "##### creating groups\n",
    "- data pane\n",
    "- in view"
   ]
  },
  {
   "cell_type": "markdown",
   "metadata": {},
   "source": [
    "##### in data pane\n",
    " - Country ->create ->Group ->rename field name -> multi select items with pressing control -> and press group ->give name -> can drag and drop to change groups and ungroup ->ok\n",
    " \n",
    "\n"
   ]
  },
  {
   "cell_type": "markdown",
   "metadata": {},
   "source": [
    "#### in view\n",
    "- consider a scatter plot (profit/rows,sales/columns,cus_id/details) -> select a set of points by drag-> there will be a group symbol in the formed tooltip ->press\n",
    "- can go to data pane and edit group\n",
    "\n"
   ]
  },
  {
   "cell_type": "markdown",
   "metadata": {
    "vscode": {
     "languageId": "plaintext"
    }
   },
   "source": [
    "#### best practice \n",
    "- create group from data pane : for dimension with low cardinality\n",
    "- create group from view :for dimension with high cardinality\n"
   ]
  },
  {
   "cell_type": "markdown",
   "metadata": {},
   "source": [
    "____"
   ]
  },
  {
   "cell_type": "markdown",
   "metadata": {},
   "source": [
    "### cluster groups "
   ]
  },
  {
   "cell_type": "markdown",
   "metadata": {},
   "source": [
    "- data clustering\n",
    "    - kmeans(tableau )\n",
    "- COLUMN:SALES , ROWS:PROFIT,DETAILS:Customer_id\n",
    "- Analytics pane -> Model -> Cluster (drag towards viz and place in create cluster box -> define no of clusters)"
   ]
  },
  {
   "cell_type": "markdown",
   "metadata": {},
   "source": [
    "___"
   ]
  },
  {
   "cell_type": "markdown",
   "metadata": {},
   "source": [
    "### is done in analytics pane and not in data pane\n",
    "- Rows:profit\n",
    "- Columns : sales\n",
    "- Custome_id -> drag it to Details (Marks)\n",
    "- In analytics pane -> Model -> Cluster  -> Drag it to view (on name cluster)->Number of cluster (default automatic)\n",
    "- this cluster wont be visible in data pane but only available in colors(marks) - > drag from there to data pane(to use in other vizs)\n",
    "\n",
    "- on colors(marks) ->right click ->edit clusters\n",
    "- on colors(marks) -> right click -> describe clusters\n",
    "- drag and select a portion ->keep only(focus)\n",
    "- colors -> opacity change to show overlapping\n",
    "<br>\n",
    "<br>\n",
    "- Remove Customer_ID from filters ->put cluster in shape (so each cluster can have a shape)\n",
    "\n",
    "\n",
    "\n",
    "\n",
    "\n"
   ]
  },
  {
   "cell_type": "markdown",
   "metadata": {},
   "source": [
    "___"
   ]
  },
  {
   "cell_type": "markdown",
   "metadata": {},
   "source": [
    "## sets"
   ]
  },
  {
   "cell_type": "markdown",
   "metadata": {},
   "source": [
    "- IN (subset contain all data points that are included in the set)\n",
    "- OUT (subset contains all data points that are not incuded in the set\n",
    ") \n",
    "\n"
   ]
  },
  {
   "cell_type": "markdown",
   "metadata": {},
   "source": [
    "- Fixed set \n",
    "- Dynamic set \n",
    "   - Condition\n",
    "   - Rank\n",
    "- Combined sets \n",
    "   - full \n",
    "   - inner \n",
    "   - left \n",
    "   - right\n",
    "   "
   ]
  },
  {
   "cell_type": "markdown",
   "metadata": {},
   "source": [
    "##### how to create fixed sets\n",
    "- can do it in worksheet, cant do it in data source page,can create in data pane  and view\n",
    "\n",
    "- Rows:Customer_ID, First_Name\n",
    "- drag Score to `Abc`\n",
    "- right click on -> Customer_id on data pane -> create ->set -> give name of set ->| General(manualselection)|condition(dynamic) | top(dynamic)\n",
    "\n",
    "- General->select manually ->ok\n",
    "\n",
    "- drag set to Rows\n",
    "\n"
   ]
  },
  {
   "cell_type": "markdown",
   "metadata": {},
   "source": [
    "#### Dynamic sets "
   ]
  },
  {
   "cell_type": "markdown",
   "metadata": {},
   "source": [
    "- right click on customerid and create set-> Condition\n",
    "-  select By field (score) | SUM\n",
    "-  \\>  | 400"
   ]
  },
  {
   "cell_type": "markdown",
   "metadata": {},
   "source": [
    "#### create dynamic set using Ranking"
   ]
  },
  {
   "cell_type": "markdown",
   "metadata": {},
   "source": [
    "- select `top` (not general | condition)\n",
    "- By field | Top/Bottom  | 2\n",
    "- Score"
   ]
  },
  {
   "cell_type": "markdown",
   "metadata": {},
   "source": [
    "### combined sets\n",
    "- set1 + set3\n",
    "- select set1 on data pane ->right click ->create combined set -> select the second set in the newly formed create set window\n"
   ]
  },
  {
   "cell_type": "markdown",
   "metadata": {},
   "source": [
    "#### directly from views\n",
    "- drag and select data from view -> symbol of set can be seen on toop tip -> create set \n",
    "- colors -> right click - > show in Group | show in/out group (all) \n",
    "\n"
   ]
  },
  {
   "cell_type": "markdown",
   "metadata": {},
   "source": [
    "- drag created set to colors"
   ]
  },
  {
   "cell_type": "markdown",
   "metadata": {},
   "source": [
    "- in marks pane `IN/OUT...` with colors ->choose , show members in set show in/Out of set\n"
   ]
  },
  {
   "cell_type": "markdown",
   "metadata": {},
   "source": [
    "#### show set as quick filter\n",
    "- colors->show in/out of set \n",
    "- colors ->  show filter\n"
   ]
  },
  {
   "cell_type": "markdown",
   "metadata": {},
   "source": [
    "#### use sets in ACTIONS to let users define IN/OUT subsets"
   ]
  },
  {
   "cell_type": "markdown",
   "metadata": {},
   "source": [
    " - adding action\n",
    "    - **worksheet** -> Actions -> Add Action -> change set values\n",
    "    - actions of users is going to change values of a set\n",
    "    - give a name to action ->  selecct a worksheet from dropdown ->select an option from Run action on (hover,select,menu,single select only) -> Target set ->choose running action and clearing the selection will ->ok.\n"
   ]
  },
  {
   "cell_type": "markdown",
   "metadata": {},
   "source": [
    " #### measure by measure formula\n",
    " - convert one of the measure to bins\n",
    " - bins divide the data into groups of equally sized containers\n",
    " - bins used to create histograms\n",
    " \n",
    "\n"
   ]
  },
  {
   "cell_type": "markdown",
   "metadata": {},
   "source": [
    "___\n",
    "- when we have to create measure by measure \n",
    "- we can convert one measure to bins\n",
    "   - Measure By Sales(Bins) \n"
   ]
  },
  {
   "cell_type": "markdown",
   "metadata": {},
   "source": [
    "##### creating bins\n",
    "- only in worksheet page\n",
    "<br><br>\n",
    "- 1.in Data pane\n",
    " <br> score(field) -> right click ->create ->bins\n",
    "- drag score(bin) from data pane to Column,Customers to Rows\n",
    "- can right click on score(bin) and convert to continuous (both on datapane and columns)\n",
    "<br><br>\n",
    "\n",
    "\n",
    "  "
   ]
  },
  {
   "cell_type": "markdown",
   "metadata": {},
   "source": [
    "- 2.show me ->visualization\n",
    "- sales to rows \n",
    "- choose histogram in visualization"
   ]
  },
  {
   "cell_type": "markdown",
   "metadata": {},
   "source": [
    "\n",
    "\n",
    "- bins are formed from measures only,dimensions are already bins\n",
    "- after creating bins ,its better to convert them to continuous measures\n",
    "- calculated field cannot be used to create bins\n"
   ]
  },
  {
   "cell_type": "markdown",
   "metadata": {},
   "source": []
  },
  {
   "cell_type": "markdown",
   "metadata": {},
   "source": [
    "- "
   ]
  }
 ],
 "metadata": {
  "language_info": {
   "name": "python"
  }
 },
 "nbformat": 4,
 "nbformat_minor": 2
}
