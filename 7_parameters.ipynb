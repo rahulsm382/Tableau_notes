{
 "cells": [
  {
   "cell_type": "markdown",
   "metadata": {},
   "source": [
    "- Dynamic Calculations\n",
    "- Dynamic Reference lines\n",
    "- Dynamic filters\n",
    "- Dynamic swap between dimensions &<br>\n",
    "  Dynamic swap between Measures\n",
    "- Dynamic Texts\n",
    "- Dynamic Bins in Histograms"
   ]
  },
  {
   "cell_type": "markdown",
   "metadata": {},
   "source": [
    "### Dynamic calculations"
   ]
  },
  {
   "cell_type": "markdown",
   "metadata": {},
   "source": [
    "- Columns:profit\n",
    "- Rows:SubCategory\n",
    "- right click on empty datapane -> create calculated field -> <br> `` if SUM([Profit]) < 10000 THEN 'Red' ``<br>\n",
    "``ELSE 'Green' `` <br>\n",
    "-> ok\n",
    "- can see new dimention added to data pane drag it to colors\n"
   ]
  },
  {
   "cell_type": "markdown",
   "metadata": {},
   "source": [
    "#### how to create parameters\n",
    "- Data pane\n",
    "- Directly in place you need it"
   ]
  },
  {
   "cell_type": "markdown",
   "metadata": {},
   "source": [
    "#### in data pane\n",
    "- 1.right click on empty pane -> right click -> create parameters ->\n",
    "- 2.on head of data pane there is a dropdown -> create parameters"
   ]
  },
  {
   "cell_type": "markdown",
   "metadata": {},
   "source": [
    "- a window create parameter will open\n",
    "- data type -> display format -> current value((default)) ->\n",
    "-  all/list/range\n",
    "- parameters appear at bottom of data pane\n",
    "- right click on it -> show parameters\n",
    "\n",
    "\n"
   ]
  },
  {
   "cell_type": "markdown",
   "metadata": {},
   "source": [
    "<b> early in the equation we have used a constant 10000 replace it with parameter</b>"
   ]
  },
  {
   "cell_type": "markdown",
   "metadata": {},
   "source": [
    "- calculation created (can see in data pane) -> right click -> edit ->  replace 10000 from the equation with ``[Choose Threshold]``  (which is the created parameters name)"
   ]
  },
  {
   "cell_type": "markdown",
   "metadata": {},
   "source": [
    "#### parameters in Dynamic reference line"
   ]
  },
  {
   "cell_type": "markdown",
   "metadata": {},
   "source": [
    "- Analytics Pane -> Reference Line -> dbl click -> Value(sum(profit) | create new parameter | threshol(already created parameter) ) \n",
    "- label -> value\n",
    "\n"
   ]
  },
  {
   "cell_type": "markdown",
   "metadata": {},
   "source": [
    "#### parameters in Dynamic Filters"
   ]
  },
  {
   "cell_type": "markdown",
   "metadata": {},
   "source": [
    "- top 10 product \n",
    "  - Rows:product name\n",
    "  - Columns:sales\n",
    "  - drag product name to filters (hold ctrl)\n",
    "  - new filter window appear  \n",
    "  - By field -> Top -> 10 drop down ->(  Enter value | create a new parameter | choose threshold(old)) ->Range -> min -> max\n",
    "  - will appear in parameters -> show parameters\n",
    "  \n"
   ]
  },
  {
   "cell_type": "markdown",
   "metadata": {},
   "source": [
    "#### Parameters in Dynamic swap Dimensions /Measures"
   ]
  },
  {
   "cell_type": "markdown",
   "metadata": {},
   "source": [
    "- Columns: Sales\n",
    "- Rows : Country\n",
    "- show labels\n",
    "- Country in the Row is a constant we have to change it make dynamic\n",
    "- create parameter \n",
    "   - data type string -> current value(countr) -> allowable -> list -> click to add -> (Country | Category) ->ok \n",
    "- show parameter\n",
    "- make connection \n",
    "    - create calaculated field -> `` CASE [parm] ``\n",
    "    <br> ``WHEN 'Country' THEN [Country]``<br>\n",
    "      ``WHEN 'Category' THEN [Category]``\n",
    "      <br> ``END``\n",
    "   - remove the country present in row and add new calculated field \n"
   ]
  },
  {
   "cell_type": "markdown",
   "metadata": {},
   "source": [
    "#### parameters in Dynamic Titles\n",
    "- dbl click on titles\n",
    " - \\<sheet name\\>\n",
    "    - insert -> (Parameters by Measure | parameters choose Dimension | Parameters choose Threshold)\n",
    "    - make new sheet name <br>  \\<Parameter.Choose Measure\\>By \\<Parameters.Choose Dimension\\> \n",
    "\n"
   ]
  },
  {
   "cell_type": "markdown",
   "metadata": {},
   "source": [
    "#### parameters in dynamic bins"
   ]
  },
  {
   "cell_type": "markdown",
   "metadata": {},
   "source": [
    "- we have already created bins \n",
    "- drag to rows and columns and create a histogram\n",
    "- right click on data plane(bins field) ->  edit ->size of bins 10 (we ahve drop down ) -> create new parameter ->\n",
    "- show parameter\n",
    "\n"
   ]
  }
 ],
 "metadata": {
  "language_info": {
   "name": "python"
  }
 },
 "nbformat": 4,
 "nbformat_minor": 2
}
