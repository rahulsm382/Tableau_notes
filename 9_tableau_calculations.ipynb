{
 "cells": [
  {
   "cell_type": "markdown",
   "metadata": {},
   "source": [
    "- introduction to calculations\n",
    "- row level calculation\n",
    "- aggregation\n",
    "- lod\n",
    "- table\n"
   ]
  },
  {
   "cell_type": "markdown",
   "metadata": {},
   "source": [
    "### 5 methods to create calculated fields\n",
    "- 4 global\n",
    "- 1 local (quick calculation)\n"
   ]
  },
  {
   "cell_type": "markdown",
   "metadata": {},
   "source": [
    "- 1.on data pane right click on empty space ->create calculated field\n",
    "- 2.on the header of data pane there is a dropdown ->create calculated field\n",
    "- 3.select any field on data field ->right click -> create ->calculated field\n"
   ]
  },
  {
   "cell_type": "markdown",
   "metadata": {},
   "source": [
    "- 4.Analysis in menu  -> create calculated field\n"
   ]
  },
  {
   "cell_type": "markdown",
   "metadata": {},
   "source": [
    "- local calculated field\n",
    " - Rows:First Name \n",
    " - go inside that dimension by double clicking on the `[FirstName]`(on Rows)\n",
    "    - write code inside it ,which makes it a calculated field\n",
    "    - ``UPPER([FirstName])``"
   ]
  },
  {
   "cell_type": "markdown",
   "metadata": {},
   "source": [
    "#### calculated window\n",
    "- name of calculated field ,name of data source\n",
    "- Expression /Formula\n",
    "- calc status (validity)\n",
    "- dependency \n",
    "- catalog `>` for all functions\n"
   ]
  },
  {
   "cell_type": "markdown",
   "metadata": {},
   "source": [
    "#### basic components "
   ]
  },
  {
   "cell_type": "markdown",
   "metadata": {},
   "source": [
    "1. <u><b>comments</b></u>\n",
    "  - //\n",
    "2. fields\n",
    "3. functions\n",
    "4. operators (+ , > ..)\n",
    "5. literal expressions (10 , \"high\")\n",
    "6. Logical expression (IF,THEN, END)\n",
    "7. PARAMETERS\n",
    "\n",
    "  "
   ]
  },
  {
   "cell_type": "markdown",
   "metadata": {},
   "source": [
    "- start typing (FIRST)\n",
    "  - ``f`` coming in the suggestion says it is a function\n",
    "  - ``Abc`` coming in suggestion says it is a field\n",
    "  -  there can be same named field from other data source will be given below\n",
    "  "
   ]
  },
  {
   "cell_type": "markdown",
   "metadata": {},
   "source": [
    "- tableau functions are built in operations to transform data\n",
    "  - logical expressions to check condition is true or false\n",
    "      - `IF SUM([Sales]) +10 > 1000 THEN \"High\" END`"
   ]
  },
  {
   "cell_type": "markdown",
   "metadata": {},
   "source": [
    "- can add parameters\n",
    "  - first create a parameter(choose_a_num)\n",
    "  - `IF SUM([Sales]) +10 > [choose_a_num] THEN \"High\" END`"
   ]
  },
  {
   "cell_type": "markdown",
   "metadata": {},
   "source": [
    "### NESTED CALCULATIONS"
   ]
  },
  {
   "cell_type": "markdown",
   "metadata": {},
   "source": [
    "- UPPER([Country])\n",
    "- LEFT(UPPER([Country]),3)\n",
    "- LEN()\n",
    "-  give name <b> Country(New) </b>\n",
    "- create new calculated field and give others name\n",
    "   - [Country(New)] * 2\n"
   ]
  },
  {
   "cell_type": "markdown",
   "metadata": {},
   "source": [
    "### 4 types of calculations "
   ]
  },
  {
   "cell_type": "markdown",
   "metadata": {},
   "source": [
    "- row level calculation\n",
    "    - processes rows individually\n",
    "    - level of detail is lowest\n",
    "    - stores data in a data source\n",
    "    - doesnt aggregate data\n",
    "<img src=\"screenshots/rls.png\" alt=\"layers\" width=\"600\" height=\"400\">"
   ]
  },
  {
   "cell_type": "markdown",
   "metadata": {},
   "source": [
    "<img src=\"screenshots/agl.png\" alt=\"layers\" width=\"600\" height=\"400\">"
   ]
  },
  {
   "cell_type": "markdown",
   "metadata": {},
   "source": [
    "-  aggregate level of calculation\n",
    "   -  result will be calculated on fly / not stored on data source\n",
    "   - one who control level is the dimension we have on view\n",
    "   - product controls LOD above\n",
    "   <br>\n",
    "- if want to calculate total revenue of each category \n",
    "   - { FIXED category : SUM(Revenue)}  -> lod expressions\n",
    "   - its not the dimension we have on the view that controls aggregations,but the dimension we specify on calculations\n",
    "   - <b>LOD calc </b>\n",
    "   - nothing will be stored on data source\n"
   ]
  },
  {
   "cell_type": "markdown",
   "metadata": {},
   "source": [
    "<img src=\"screenshots/lodcalc.png\" alt=\"layers\" width=\"600\" height=\"400\">"
   ]
  },
  {
   "cell_type": "markdown",
   "metadata": {},
   "source": [
    "- if i want to rank based on visualization\n",
    "- tableau wont query data source but visualization\n",
    "- RANK(SUM(Revenue))\n",
    "- <b> Table calculations </b>"
   ]
  },
  {
   "cell_type": "markdown",
   "metadata": {},
   "source": [
    "### Row Level Calculations"
   ]
  },
  {
   "cell_type": "markdown",
   "metadata": {},
   "source": [
    "- Revenue = quantity * price\n",
    "   - create calculated field (Revenue)\n",
    "      - [Quantity] * [Unit Price]\n"
   ]
  },
  {
   "cell_type": "markdown",
   "metadata": {},
   "source": [
    "### Aggregate Calculations"
   ]
  },
  {
   "cell_type": "markdown",
   "metadata": {},
   "source": [
    "- SUM(revenue)"
   ]
  },
  {
   "cell_type": "markdown",
   "metadata": {},
   "source": [
    "### LOD calculations"
   ]
  },
  {
   "cell_type": "markdown",
   "metadata": {},
   "source": [
    "- Fixed \n",
    "- Include\n",
    "- Exclude\n"
   ]
  },
  {
   "cell_type": "markdown",
   "metadata": {},
   "source": [
    "### NUMBER FUNCTIONS"
   ]
  },
  {
   "cell_type": "markdown",
   "metadata": {},
   "source": [
    "- CEILING,FLOOR,ROUND\n"
   ]
  },
  {
   "cell_type": "markdown",
   "metadata": {},
   "source": [
    "### STRING FUNCTIONS\n",
    "- LOWER, UPPER\n",
    "- LTRIM,RTRIM,TRIM\n",
    "- LEFT,RIGHT,MID (extract specific sub string)\n",
    "- STARTWITH,ENDWITH,CONTAINS,FIND,FINDNTH (search for patterns)\n",
    "- CONCAT ,SPLIT (combine & split)\n",
    "- REPLACE (replace)"
   ]
  },
  {
   "cell_type": "markdown",
   "metadata": {},
   "source": [
    "### DATE FUNCTIONS"
   ]
  },
  {
   "cell_type": "markdown",
   "metadata": {},
   "source": [
    "- DATEPART,DATENAME,DATETRUNC,DAY,MONTH,YEAR(Extract date part)\n",
    "- DATEADD,DATEDIFF(Add,subtract)\n",
    "- TODAY,NOW(current date& time)\n"
   ]
  },
  {
   "cell_type": "markdown",
   "metadata": {},
   "source": [
    "- Global\n",
    "   - calculated field\n",
    "- change in view\n",
    "   "
   ]
  }
 ],
 "metadata": {
  "language_info": {
   "name": "python"
  }
 },
 "nbformat": 4,
 "nbformat_minor": 2
}
