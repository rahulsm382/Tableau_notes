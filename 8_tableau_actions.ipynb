{
 "cells": [
  {
   "cell_type": "markdown",
   "metadata": {},
   "source": [
    "##### triggers\n",
    "- Hover\n",
    "- select \n",
    "- Menu"
   ]
  },
  {
   "cell_type": "markdown",
   "metadata": {},
   "source": [
    "- go to url\n",
    "- jump to another worksheet \n",
    "- filter\n",
    "- highlight \n",
    "- change set value\n",
    "- change parameter value\n",
    "\n",
    "\n"
   ]
  },
  {
   "cell_type": "markdown",
   "metadata": {},
   "source": [
    "#### go to url"
   ]
  },
  {
   "cell_type": "markdown",
   "metadata": {},
   "source": [
    "- 1.worksheet ->actions\n",
    "- 2.dashboard -> actions\n"
   ]
  },
  {
   "cell_type": "markdown",
   "metadata": {},
   "source": [
    "- worksheet ->actions -> add action ->goto url ->\n",
    "- source sheet ->run action on (trigger)  -> target (url target)\n",
    " - <b>menu </b>(run action on ) -> when click on marks tooltip like window appear -> <b>Go to more detail </b>"
   ]
  },
  {
   "cell_type": "markdown",
   "metadata": {},
   "source": [
    "#### goto sheet"
   ]
  },
  {
   "cell_type": "markdown",
   "metadata": {},
   "source": [
    "->add action -> goto sheet -> sorce sheet| target sheet"
   ]
  },
  {
   "cell_type": "markdown",
   "metadata": {},
   "source": [
    "#### Action Filter"
   ]
  },
  {
   "cell_type": "markdown",
   "metadata": {},
   "source": [
    " #### filter\n",
    " - add action -> filter ->\n",
    " - clearing the selection will \n",
    " - after that -> <b>bring both worksheet into dash board </b> source & target\n",
    "\n",
    " \n"
   ]
  },
  {
   "cell_type": "markdown",
   "metadata": {},
   "source": [
    "### Quick filter action"
   ]
  },
  {
   "cell_type": "markdown",
   "metadata": {},
   "source": [
    "- right side of the view (marks) -> there will be a filter symbol\n",
    "- this is only fot type filter action"
   ]
  },
  {
   "cell_type": "markdown",
   "metadata": {},
   "source": [
    "### Highlight"
   ]
  },
  {
   "cell_type": "markdown",
   "metadata": {},
   "source": [
    "- target only highlights not changes\n",
    "- add action ->highlight -> "
   ]
  },
  {
   "cell_type": "markdown",
   "metadata": {},
   "source": [
    "- on the qick menu present above the marks -> there is an pen symbol  (edit highlight) -> (disable workbook highlighting | disable sheet highlighting | All fields | dates and times )"
   ]
  },
  {
   "cell_type": "markdown",
   "metadata": {},
   "source": [
    "- mainmenu -> Analysis -> Highlighters -> Sub Category -> there will be a highlight dropdown on right side\n"
   ]
  },
  {
   "cell_type": "markdown",
   "metadata": {},
   "source": [
    "#### Actions Change Set Values"
   ]
  },
  {
   "cell_type": "markdown",
   "metadata": {},
   "source": [
    "- create set\n",
    "- worksheet actions ->add action -> change set values -> "
   ]
  },
  {
   "cell_type": "markdown",
   "metadata": {},
   "source": [
    "#### Action change Parameter values"
   ]
  },
  {
   "cell_type": "markdown",
   "metadata": {},
   "source": [
    "- Rows : Sales\n",
    "- Columns : Order Date (MONTH)\n",
    "- selecting points in time series plot must show sum of sales\n",
    "- create a new worksheet\n",
    "- create a parameter ->total sales\n",
    "-  create new calculated field ->`` [total sales]`` ->ok\n",
    "-  drag new calculated field in text \n",
    "- text -> ``total sales <Sum(total slected sales)>`` ->ok"
   ]
  },
  {
   "cell_type": "markdown",
   "metadata": {},
   "source": [
    "- parameter can be seen in right side -> changing it will change - total sales (calculation). inorder to change parameter we connect it to an action-> when certain points are selected in a timeseries plot it triggers parameter to change -> which changes the printed text (calculated value)"
   ]
  },
  {
   "cell_type": "markdown",
   "metadata": {},
   "source": []
  }
 ],
 "metadata": {
  "language_info": {
   "name": "python"
  }
 },
 "nbformat": 4,
 "nbformat_minor": 2
}
