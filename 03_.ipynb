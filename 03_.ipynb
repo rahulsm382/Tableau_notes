{
 "cells": [
  {
   "cell_type": "markdown",
   "metadata": {},
   "source": [
    "### tableau interface"
   ]
  },
  {
   "cell_type": "markdown",
   "metadata": {},
   "source": [
    "<img src=\"screenshots/Screenshot (207).png\" alt=\"layers\" width=\"600\" height=\"400\">"
   ]
  },
  {
   "cell_type": "markdown",
   "metadata": {},
   "source": [
    "![](Screenshots/dts.png)"
   ]
  },
  {
   "cell_type": "markdown",
   "metadata": {},
   "source": [
    "- data model contain 2 layers\n",
    "   - logical,physical\n",
    "- data grid (sample of data 1000)\n",
    "- meta data grid"
   ]
  },
  {
   "cell_type": "markdown",
   "metadata": {},
   "source": [
    "![](Screenshots/dtg.png)"
   ]
  },
  {
   "cell_type": "markdown",
   "metadata": {},
   "source": [
    "___\n"
   ]
  },
  {
   "cell_type": "markdown",
   "metadata": {},
   "source": [
    "- visuals of tableau have two diamensions (rows,columns)\n",
    "- can switch between rows and columns using icon on toolbar \n"
   ]
  },
  {
   "cell_type": "markdown",
   "metadata": {},
   "source": [
    "![](Screenshots/rowcol.png)"
   ]
  },
  {
   "cell_type": "markdown",
   "metadata": {},
   "source": [
    "___\n"
   ]
  },
  {
   "cell_type": "markdown",
   "metadata": {},
   "source": [
    "#### pages\n",
    "- Columns : Country\n",
    "- Rows : CNT(Customers.csv)(measure)\n",
    "\n",
    "<br>\n",
    "Customers.csv(Count) -(drag this measure)- >  <b>Pages </b> ->will work like a filter\n",
    "\n",
    "![](Screenshots/pages.png)\n",
    "\n",
    "- similarly\n",
    "  - **filters** (country)\n",
    "  - **marks**\n",
    "    - to design visuals\n",
    "      - country to color\n",
    "      - size -> change size of bins\n",
    "      - label -> show label\n"
   ]
  },
  {
   "cell_type": "markdown",
   "metadata": {},
   "source": [
    "___"
   ]
  },
  {
   "cell_type": "markdown",
   "metadata": {},
   "source": [
    "#### visualization\n",
    "- dbl click on **title** to change  it\n",
    "- **headers** (x axis)\n",
    "- **axes** (y)\n",
    "- intersection between them are **marks** (line ,bar,..)\n"
   ]
  },
  {
   "cell_type": "markdown",
   "metadata": {},
   "source": [
    "![](Screenshots/vizu.png)"
   ]
  },
  {
   "cell_type": "markdown",
   "metadata": {},
   "source": [
    "- bottom -> **status bar** -> it says how many marks, rows ,columns\n"
   ]
  },
  {
   "cell_type": "markdown",
   "metadata": {},
   "source": [
    "___"
   ]
  },
  {
   "cell_type": "markdown",
   "metadata": {},
   "source": [
    "- **Dashboard** used to combine work sheets\n",
    "- **story**\n",
    "     - story -> new story point -> Blank"
   ]
  },
  {
   "cell_type": "markdown",
   "metadata": {},
   "source": []
  },
  {
   "cell_type": "markdown",
   "metadata": {},
   "source": [
    "___"
   ]
  },
  {
   "cell_type": "markdown",
   "metadata": {},
   "source": []
  },
  {
   "cell_type": "markdown",
   "metadata": {},
   "source": [
    "### DATA MODELING "
   ]
  },
  {
   "cell_type": "markdown",
   "metadata": {},
   "source": [
    "- each model contains entities(things(customers,products) or events(sales) ).inside which attributes are present\n",
    "- relations means connections between entities"
   ]
  },
  {
   "cell_type": "markdown",
   "metadata": {},
   "source": [
    "- creating relations between tables\n",
    "- 3 data types of data models at different levels of abstraction\n",
    "   - **conceptual** data model(high level)(used to explain to ba,stack holders).just showing important entities and relations\n",
    "   - **logical** data model(how data is structured and organized).define attributes in each entity .used by database sedigners and developers as a blue print\n",
    "   - **physical** data model(data types ,keys,).\n"
   ]
  },
  {
   "cell_type": "markdown",
   "metadata": {},
   "source": [
    "<img src=\"screenshots/levels.png\" alt=\"layers\" width=\"600\" height=\"400\">"
   ]
  },
  {
   "cell_type": "markdown",
   "metadata": {},
   "source": [
    "| Feature                     | Logical Data Model                                | Physical Data Model                               |\n",
    "|-----------------------------|--------------------------------------------------|--------------------------------------------------|\n",
    "| **Purpose**                 | Represents the structure of data and relationships | Specifies how data is stored and accessed         |\n",
    "| **Detail Level**            | More abstract, focusing on \"what\" the data is    | Concrete, detailing \"how\" data will be implemented |\n",
    "| **Entities & Relationships**| Defines entities, attributes, and relationships   | Specifies tables, columns, and constraints        |\n",
    "| **Normalization**           | Often involves normalization for data integrity    | Implements normalization strategies for storage    |\n",
    "| **Data Types**              | Includes data types conceptually                   | Specifies exact data types for database implementation |\n",
    "| **Technology Independence** | Independent of specific database technologies      | Specific to a chosen database management system   |\n",
    "| **Performance Considerations**| Minimal focus on performance                       | Includes indexing, partitioning, and optimization strategies |\n",
    "| **Access & Security**       | Generally does not cover access control            | Specifies user permissions and security measures  |\n",
    "| **Use Case**                | Useful for understanding data requirements         | Critical for database design and implementation    |\n"
   ]
  },
  {
   "cell_type": "markdown",
   "metadata": {},
   "source": [
    "- logical model is like er representation ,just need to give a representation\n",
    "- physical model is actually for db\n"
   ]
  },
  {
   "cell_type": "markdown",
   "metadata": {},
   "source": []
  },
  {
   "cell_type": "markdown",
   "metadata": {},
   "source": [
    "- **tableau dont have conceptual data model**"
   ]
  },
  {
   "cell_type": "markdown",
   "metadata": {},
   "source": [
    "___"
   ]
  },
  {
   "cell_type": "markdown",
   "metadata": {},
   "source": [
    "#### analytical data models\n",
    "- for analytics we need special data models\n",
    "- 2 special data models \n",
    "  - star schema\n",
    "    - central fact table\n",
    "    - surrounded by dimensional tables\n",
    "\n",
    "    - fact table contains events , dimensions hold descriptive information\n",
    "  - snowflake schema \n",
    "    - similar but dimensions here are breaking down into sub dimensions\n",
    "- we use star schema here"
   ]
  },
  {
   "cell_type": "markdown",
   "metadata": {},
   "source": [
    "<img src=\"screenshots/schema.png\" alt=\"layers\" width=\"600\" height=\"400\">"
   ]
  },
  {
   "cell_type": "markdown",
   "metadata": {},
   "source": [
    " - Dimension describes physical person or objects\n",
    "      - eg: Employees,Customers,Products\n",
    " - Fact table\n",
    "      - facts contains events or transactions\n",
    "      - eg:Sales,Orders,Logs,ATM Transactions\n",
    "      \n"
   ]
  },
  {
   "cell_type": "markdown",
   "metadata": {},
   "source": [
    "<img src=\"screenshots/Screenshot (215).png\" alt=\"layers\" width=\"600\" height=\"400\">\n",
    "<img src=\"screenshots/Screenshot (217).png\" alt=\"layers\" width=\"600\" height=\"400\">"
   ]
  },
  {
   "cell_type": "markdown",
   "metadata": {},
   "source": [
    "___"
   ]
  },
  {
   "cell_type": "markdown",
   "metadata": {},
   "source": [
    "###  models\n",
    "\n",
    "- tableau offers 4 different methods to combine tables\n",
    "  - relationship\n",
    "  - join\n",
    "  - union\n",
    "  - blending"
   ]
  },
  {
   "cell_type": "markdown",
   "metadata": {},
   "source": [
    "<img src=\"screenshots/Screenshot (221).png\" alt=\"layers\" width=\"600\" height=\"400\">"
   ]
  },
  {
   "cell_type": "markdown",
   "metadata": {},
   "source": [
    "- when logical tables are combined using relationship ,original table will exist as it is but only relationship between them is defined\n",
    "- not all logical tables come from physical tables\n",
    "- different data sources or models can be combined at viz layer by **Blending**"
   ]
  },
  {
   "cell_type": "markdown",
   "metadata": {},
   "source": [
    "___"
   ]
  },
  {
   "cell_type": "markdown",
   "metadata": {},
   "source": [
    "#### navigate the layers"
   ]
  },
  {
   "cell_type": "markdown",
   "metadata": {},
   "source": [
    "![](Screenshots/log.png)"
   ]
  },
  {
   "cell_type": "markdown",
   "metadata": {},
   "source": [
    "- at data source page by default we are at logical layer\n",
    "  - anything that we drag and drop will be in logical table\n",
    "- double click on logical table (formed when we dragged table into model in data source page).-> now we are in physical layer\n",
    "   - drag and drop another table near it (will form join/union)\n",
    "   - closing physical layer will lead  to logical layer\n",
    "   - can see join symbol (on table name ) if done join\n"
   ]
  },
  {
   "cell_type": "markdown",
   "metadata": {},
   "source": [
    "#### creating joins\n",
    "\n",
    "- enter into physical layer (dbl click on table of logical layer)\n",
    "- drag and drop\n",
    "- result will be inner join . **click on symbol at center and choose among joins and choose field for join**\n"
   ]
  },
  {
   "cell_type": "markdown",
   "metadata": {},
   "source": [
    "### creating union"
   ]
  },
  {
   "cell_type": "markdown",
   "metadata": {},
   "source": [
    "<img src=\"screenshots/union.png\" alt=\"layers\" width=\"600\" height=\"400\">"
   ]
  },
  {
   "cell_type": "markdown",
   "metadata": {},
   "source": [
    "- same no of fields \n",
    "- same data types"
   ]
  },
  {
   "cell_type": "markdown",
   "metadata": {},
   "source": [
    "- drag a table into logical layer(datasource page)\n",
    "- dbl click and move to physical layer\n",
    "- drag a table just beneath the already present one\n",
    "\n",
    "<br> \n",
    "\n",
    "- or\n",
    "   - in logical layer  below files we have a `New Union` </i> label \n",
    "   - manual and automatic\n",
    "    \n"
   ]
  },
  {
   "cell_type": "markdown",
   "metadata": {},
   "source": [
    "![](Screenshots/uni.png)"
   ]
  },
  {
   "cell_type": "markdown",
   "metadata": {},
   "source": [
    "- Wildcard(automatic)\n",
    "  - select Include \n",
    "  - specify the rule\n",
    "       - orders_archive.csv,orders_2033.csv,orders_2032.csv to make union of these\n",
    "       - create rule like  <b> orders </b> \n",
    "       - this specifies that orders followed by anything are accepted\n",
    "       - after creating union there will be a new field - > path "
   ]
  },
  {
   "cell_type": "markdown",
   "metadata": {},
   "source": [
    "- **creating relationships**\n",
    "  - drag and drop(2 table) in data source will be by default logical layer.\n",
    "  - select the connection between them and go to meta data grid \n",
    "  - and see relations\n",
    "  - see performance options\n",
    " "
   ]
  },
  {
   "cell_type": "markdown",
   "metadata": {},
   "source": [
    "#### relationship integrity\n",
    "![](Screenshots/rel_inte.png)"
   ]
  },
  {
   "cell_type": "markdown",
   "metadata": {},
   "source": [
    "- by default tableau uses first one"
   ]
  },
  {
   "cell_type": "markdown",
   "metadata": {},
   "source": [
    "![](Screenshots/bl.png)"
   ]
  },
  {
   "cell_type": "markdown",
   "metadata": {},
   "source": [
    "- **primary data** sourse is blue in color\n",
    "- it do blending by left join"
   ]
  },
  {
   "cell_type": "markdown",
   "metadata": {},
   "source": [
    "\n",
    "### creating blending\n",
    "- blending is when data is from two different data sources ,is done only at visualisation level \n",
    "- drag first table in datasource page(products)\n",
    "- there will be data file as title and a db symbol left to it - choose that symbol and ->click on New Data Source\n",
    "- go to visualisation level (worksheet page) to blend\n",
    "\n"
   ]
  },
  {
   "cell_type": "markdown",
   "metadata": {},
   "source": [
    "##### for edit blending"
   ]
  },
  {
   "cell_type": "markdown",
   "metadata": {},
   "source": [
    "- Data -> Edit Blend Relationships -> Custom -> dblckick and choose keys  -> ok"
   ]
  },
  {
   "cell_type": "markdown",
   "metadata": {},
   "source": [
    "- broken chain means that blending doesnt used ,click to use\n",
    "- if create new worksheet we have to create new decisions (primary and secondary data source)\n",
    "- blending is for only one sheet\n"
   ]
  },
  {
   "cell_type": "markdown",
   "metadata": {},
   "source": [
    "### join vs blending\n",
    "- in join first combine then aggregate\n",
    "- in blend first aggregate then combine\n",
    "  -  in blending there will not be any duplicates(get aggregated)(measure will be aggregated dimensions wont write * for no logic outs)"
   ]
  },
  {
   "cell_type": "markdown",
   "metadata": {},
   "source": [
    "  ### Measures can be aggregated but dimensions cant be aggregated "
   ]
  },
  {
   "cell_type": "markdown",
   "metadata": {},
   "source": [
    "___"
   ]
  },
  {
   "cell_type": "markdown",
   "metadata": {},
   "source": [
    "\n",
    "### joins vs relationships"
   ]
  },
  {
   "cell_type": "markdown",
   "metadata": {},
   "source": [
    "- joins  -> data loss,static\n",
    "- relationships - > no data loss ,flexible"
   ]
  },
  {
   "cell_type": "markdown",
   "metadata": {},
   "source": [
    "![](Screenshots/rank.png)"
   ]
  },
  {
   "cell_type": "markdown",
   "metadata": {},
   "source": [
    "- if table refers to entities/things always use realtionship "
   ]
  },
  {
   "cell_type": "markdown",
   "metadata": {},
   "source": [
    "- in some data decimal no may be represented with ','.in some cases the data type may show as string, if try to convert it to nos, tableau doesnt know how to convert\n",
    "   - either download proper data or\n",
    "   - select datasource name .right click -> text file properties -> field seperator (semicolumn) -> locale(choose)"
   ]
  },
  {
   "cell_type": "markdown",
   "metadata": {},
   "source": [
    "____"
   ]
  },
  {
   "cell_type": "markdown",
   "metadata": {},
   "source": [
    "#### Tableau meta data\n",
    "### Data Types & Roles "
   ]
  },
  {
   "cell_type": "markdown",
   "metadata": {},
   "source": [
    "- tableau make assumptions about fields(meta data)\n",
    "  - data types  ( numbers,string,date,Boolean)\n",
    "  - Role 1(dimension[level of details of view] , measure [aggregation]) \n",
    "  - Role 2(Discrete ,Continuous)"
   ]
  },
  {
   "cell_type": "markdown",
   "metadata": {},
   "source": [
    "<img src=\"screenshots/S225.png\" alt=\"layers\" width=\"600\" height=\"400\">\n",
    "<img src=\"screenshots/S227.png\" alt=\"layers\" width=\"600\" height=\"400\">"
   ]
  },
  {
   "cell_type": "markdown",
   "metadata": {},
   "source": [
    "- number [01239]  |  not[+91883453535] \n",
    "- represented with `#`\n",
    "- whole numbers,decimal numbers"
   ]
  },
  {
   "cell_type": "markdown",
   "metadata": {},
   "source": [
    "- string\n",
    "- a,b,1,2,$, ,_..\n",
    "- has no rules\n",
    "- any field could be converted to string\n",
    "- `Abc`"
   ]
  },
  {
   "cell_type": "markdown",
   "metadata": {},
   "source": [
    "- dates\n",
    "- iso(YYYY-MM-DD)\n",
    "- to change date format \n",
    "  - globally\n",
    "    - drag and drop orderid(row) orderdate(text) ->Year will be shown-> dropdown and choose Exact Date ->\n",
    "    - on data pane over order date->right click-> default properties -> Date format  ->Custom ->Format ->ok\n",
    "  - to change it locally\n",
    "    -  in Marks shelf there will be order date if dragged -> right click -> format ->data pane switch to format pane ->Dates ->select\n",
    "\n"
   ]
  },
  {
   "cell_type": "markdown",
   "metadata": {},
   "source": [
    "- to change to default\n",
    "   - data pane ->order data-> right click -> default properties ->date format -> automatic->ok"
   ]
  },
  {
   "cell_type": "markdown",
   "metadata": {},
   "source": [
    "- boolean data type\n",
    " - in data pane below data source there is a dropdown  ->click -> create calculated field ->new window to write expression will be opened\n",
    "   - [Sales] < 400   (give name logic-400)\n",
    "   - ok\n",
    "   - it forms a new field logic-400\n",
    "- drag logic-400 to Rows,drag orderid before it\n",
    "- drag sales to Abc in the table formed on sheet\n",
    "- to see only one those below 400 ,drag logic-400 to filter -> use  TRUE/FALSE\n",
    "\n"
   ]
  },
  {
   "cell_type": "markdown",
   "metadata": {},
   "source": [
    "#### Data type roles\n",
    "- Geographic role\n",
    "- image role\n"
   ]
  },
  {
   "cell_type": "markdown",
   "metadata": {},
   "source": [
    "- None,Airport , Area code, cbsa/msa, city,congressional districts,country/region,country,latitude,longitude,nuts europe,state/province,zip code /post code"
   ]
  },
  {
   "cell_type": "markdown",
   "metadata": {},
   "source": [
    "#### ploting\n",
    "- Rows:country , city\n",
    "- drag Sales to Abc\n",
    "- choose map from Showme\n"
   ]
  },
  {
   "cell_type": "markdown",
   "metadata": {},
   "source": [
    "#### Image Role"
   ]
  },
  {
   "cell_type": "markdown",
   "metadata": {},
   "source": [
    "- supported .png,.jpeg,.jpg\n",
    "- url must begin with http,or https "
   ]
  },
  {
   "cell_type": "markdown",
   "metadata": {},
   "source": [
    " - in meta data add URL to Image Role \n",
    " - Drag product image to Rows\n",
    " - drag sales to Abc\n",
    " - some images may be broken save it to public to show them\n"
   ]
  },
  {
   "cell_type": "markdown",
   "metadata": {},
   "source": [
    "##### ROLES\n",
    "#### Dimensions vs Measures"
   ]
  },
  {
   "cell_type": "markdown",
   "metadata": {},
   "source": [
    "![](Screenshots/ol.png)"
   ]
  },
  {
   "cell_type": "markdown",
   "metadata": {},
   "source": [
    "![](Screenshots/dim_mes.png)"
   ]
  },
  {
   "cell_type": "markdown",
   "metadata": {},
   "source": [
    "![](Screenshots/ola.png)"
   ]
  },
  {
   "cell_type": "markdown",
   "metadata": {},
   "source": [
    " ### Dimensions\n",
    " - Dimensions contain qualitative or categorical values\n",
    "   Eg: Product name,product category, location\n",
    " - use dimensions to categorize filtering,level of details\n",
    "### Measures\n",
    " - quantitative and numerical values \n",
    " - eg:sales,profit,quantity\n",
    " - measures can be aggregated\n",
    "\n"
   ]
  },
  {
   "cell_type": "markdown",
   "metadata": {},
   "source": [
    "<img src=\"screenshots/Sc228.png\" alt=\"layers\" width=\"600\" height=\"400\">"
   ]
  },
  {
   "cell_type": "markdown",
   "metadata": {},
   "source": [
    "##### Examples\n",
    "- Customer_ID - > dimension\n",
    "- First_Name  - > dimension\n",
    "- Last_Name -> dimension\n",
    "- Postal_Code -> dimension\n",
    "- City -> Dimension\n",
    "- Country - > Dimension\n",
    "- Score - > measure\n"
   ]
  },
  {
   "cell_type": "markdown",
   "metadata": {},
   "source": [
    "- in Data pane\n",
    " <br>\n",
    " the fields above line (a seperator) are called <b> Dimensions\n",
    "</b> below line are called <b>measures </b> "
   ]
  },
  {
   "cell_type": "markdown",
   "metadata": {},
   "source": [
    "- Blue = > Discrete\n",
    "- Green = > Continuous\n",
    " "
   ]
  },
  {
   "cell_type": "markdown",
   "metadata": {},
   "source": [
    "###  change dimensions to measure\n",
    " - Globally / Locally\n",
    " - <b>Globally</b>\n",
    "    - Order_ID (on data pane)-> RIGHT CLICK -> Convert to Measure /Convert to dimension\n",
    " - <b>Locally</b>\n",
    "    - Drag orderid to Rows\n",
    "    - right click on Order_id(on Rows) -> Measure ->Sum\n",
    "\n",
    "\n"
   ]
  },
  {
   "cell_type": "markdown",
   "metadata": {},
   "source": [
    "- Main purpose of dimensions and measures\n",
    "  -  dimensions define the level of details\n",
    "  -  measure is the lowest level\n",
    "  \n"
   ]
  },
  {
   "cell_type": "markdown",
   "metadata": {},
   "source": [
    "- drag sales to text ->(aggregate) and it is the highest level of detail -> \n",
    "- drag category over rows - > dimension is splitting our measure into two rows\n",
    "\n"
   ]
  },
  {
   "cell_type": "markdown",
   "metadata": {},
   "source": [
    "### Generating report \n",
    " - <b>Measure By Dimension</b>\n",
    "  - Eg :<b> Sales by Product </b>, Profit by Category\n",
    " - Sales to Rows , Product Name to Columns \n",
    " - <b>Measure to Rows ,Dimension to Columns</b>\n",
    "\n"
   ]
  },
  {
   "cell_type": "markdown",
   "metadata": {},
   "source": [
    "#### how to changes roles (Discrete ,Continuous)\n",
    "- Globally\n",
    "   - Data pane -> right click on field -> Convert to discrete/continuous\n",
    "\n",
    "- Locally \n",
    "  - Right click on field in Rows (after dragging) ->choose from discrete /continuous\n",
    "___ "
   ]
  },
  {
   "cell_type": "markdown",
   "metadata": {},
   "source": [
    "### Filters"
   ]
  },
  {
   "cell_type": "markdown",
   "metadata": {},
   "source": [
    "- Discrete field going to create filters with distinct values\n",
    "- Continuous field going to create with range values\n"
   ]
  },
  {
   "cell_type": "markdown",
   "metadata": {},
   "source": [
    "- Columns : Sales\n",
    "- Rows : SubCategory\n",
    "- place SubCategory in Filter\n",
    "    - choose -> ok\n",
    "- Filters on right side  -> Contain Sub Category -> right click -> show filter\n",
    "<br>\n",
    "\n",
    "- Columns:Sales( Range)\n",
    "  -  holding alt drag and drop it into filter -> \n",
    "\n",
    "\n",
    "\n",
    "\n"
   ]
  },
  {
   "cell_type": "markdown",
   "metadata": {},
   "source": [
    "___"
   ]
  },
  {
   "cell_type": "markdown",
   "metadata": {},
   "source": [
    "### Discrete vs Continuous \n",
    "### Header & Axis"
   ]
  },
  {
   "cell_type": "markdown",
   "metadata": {},
   "source": [
    "- Discrete -> create Headers\n",
    "- Continuous -> create axis"
   ]
  },
  {
   "cell_type": "markdown",
   "metadata": {},
   "source": [
    "___"
   ]
  },
  {
   "cell_type": "markdown",
   "metadata": {},
   "source": [
    "##### Discrete vs Continuous \n",
    "### Sorting"
   ]
  },
  {
   "cell_type": "markdown",
   "metadata": {},
   "source": [
    "- Discrete Many Sorting options\n",
    "   - ascending,descending,data source order,alphabetic,field,manual,nested\n",
    "- Continuous  Limited sorting options\n"
   ]
  },
  {
   "cell_type": "markdown",
   "metadata": {},
   "source": [
    "- Rows:Sub_Category ->  right click ->sort\n",
    "   - alphabetic,field,manual\n",
    "- Columns :sales ->dont have an option while right click\n",
    "   - hover on sales (axis) -> there will be symbol\n",
    "   \n",
    "\n",
    "\n",
    "\n"
   ]
  },
  {
   "cell_type": "markdown",
   "metadata": {},
   "source": [
    "___"
   ]
  },
  {
   "cell_type": "markdown",
   "metadata": {},
   "source": [
    "#### Purpose of continuous vs discrete\n",
    "\n",
    "- Discrete -> deep dive analysis\n",
    "- Continuous -> Big Picture Analysis\n"
   ]
  },
  {
   "cell_type": "markdown",
   "metadata": {},
   "source": [
    " - Columns : Order_Date\n",
    " - Rows : Quantity\n",
    " - right click on order_date and select -> Exact Date\n",
    "    - it get converted to continuous\n",
    "    - making continuous will produce big picture analysis\n",
    "    - right click on order date -> click Discrete \n"
   ]
  },
  {
   "cell_type": "markdown",
   "metadata": {},
   "source": []
  },
  {
   "cell_type": "code",
   "execution_count": null,
   "metadata": {},
   "outputs": [],
   "source": []
  }
 ],
 "metadata": {
  "kernelspec": {
   "display_name": "base",
   "language": "python",
   "name": "python3"
  },
  "language_info": {
   "codemirror_mode": {
    "name": "ipython",
    "version": 3
   },
   "file_extension": ".py",
   "mimetype": "text/x-python",
   "name": "python",
   "nbconvert_exporter": "python",
   "pygments_lexer": "ipython3",
   "version": "3.12.7"
  }
 },
 "nbformat": 4,
 "nbformat_minor": 2
}
