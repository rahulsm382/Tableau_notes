{
 "cells": [
  {
   "cell_type": "markdown",
   "metadata": {},
   "source": [
    "1. [Filters](#filters)"
   ]
  },
  {
   "cell_type": "markdown",
   "metadata": {},
   "source": [
    "<a id=\"filters\"></a>\n",
    "## Filters\n",
    "\n"
   ]
  },
  {
   "cell_type": "markdown",
   "metadata": {},
   "source": [
    "- reduce size of data and optimize performance\n",
    "- interactivity and analysis\n",
    "- hiding sensitive information\n",
    "- data access control by applying row level security\n"
   ]
  },
  {
   "cell_type": "markdown",
   "metadata": {},
   "source": [
    "### Filer typs\n",
    "- Optimize Performance\n",
    "   - Extract Filter \n",
    "   - Data Source Filter\n",
    "   - Context Filter\n",
    "- Interactivity\n",
    "   - Dimension filter\n",
    "   - Measure filter\n",
    "   - Table Calc filter\n",
    "   \n",
    "\n"
   ]
  },
  {
   "cell_type": "markdown",
   "metadata": {},
   "source": [
    "<img src=\"screenshots/exfil_datfil.png\" alt=\"layers\" width=\"600\" height=\"400\">"
   ]
  },
  {
   "cell_type": "markdown",
   "metadata": {},
   "source": [
    "- extract filter(E) vs data source filter(D)\n",
    "    - only on Extract Connection (E) |  Extract & Live Connection(D)\n",
    "    - Only Tableau Desktop (E) | tableau desktop & public (D)\n",
    "    - purpose optimize load performance (E),hide sensitive data(E), optimize performace in views (D,E) "
   ]
  },
  {
   "cell_type": "markdown",
   "metadata": {},
   "source": [
    "#### context filters\n",
    "- specific work sheet need specific filters but data source filter will be applied for all worksheets\n"
   ]
  },
  {
   "cell_type": "markdown",
   "metadata": {},
   "source": [
    "<img src=\"screenshots/cont.png\" alt=\"layers\" width=\"600\" height=\"400\">"
   ]
  },
  {
   "cell_type": "markdown",
   "metadata": {},
   "source": [
    "- **Quick filters**"
   ]
  },
  {
   "cell_type": "markdown",
   "metadata": {
    "vscode": {
     "languageId": "plaintext"
    }
   },
   "source": [
    "- <b> all these filters are for tableau developers and not for users</b>\n",
    "- so we have \n",
    "  - dimention filters\n",
    "  - measure filters\n",
    "  - table calculation filter"
   ]
  },
  {
   "cell_type": "markdown",
   "metadata": {},
   "source": [
    "<img src=\"screenshots/prior.png\" alt=\"layers\" width=\"600\" height=\"400\">"
   ]
  },
  {
   "cell_type": "markdown",
   "metadata": {},
   "source": [
    "____"
   ]
  },
  {
   "cell_type": "markdown",
   "metadata": {},
   "source": [
    "### Hide sensitive information\n",
    "- hide all customers from usa (which is now visible in worksheet)\n",
    "- go to <b> Data Source </b> Page. -> on top right corner you can see <b>Filters</b> -> Add -> a new window opens -> Add -> \n",
    "choose field(Country) -> ok ->  select usa ->tick Exclude -> ok"
   ]
  },
  {
   "cell_type": "markdown",
   "metadata": {},
   "source": [
    "![](Screenshots/filtt.png)"
   ]
  },
  {
   "cell_type": "markdown",
   "metadata": {},
   "source": [
    "___"
   ]
  },
  {
   "cell_type": "markdown",
   "metadata": {},
   "source": [
    "### Context filters\n"
   ]
  },
  {
   "cell_type": "markdown",
   "metadata": {},
   "source": [
    "- Columns : Profit\n",
    "- Rows: Category , Sub Category\n",
    "- sum(profit) ->colors"
   ]
  },
  {
   "cell_type": "markdown",
   "metadata": {},
   "source": [
    "- we want only office supplies relevant data \n",
    "- filter by category\n",
    "- drag category from rows to filters-> select office supplies\n",
    "-  focusing\n",
    "  -  its a dimension filter appeared in filter(category)\n",
    "  -  right click on it ->Add to Context \n",
    "  - now it become gray pill (from blue)"
   ]
  },
  {
   "cell_type": "markdown",
   "metadata": {},
   "source": [
    "- context filter dominates over dimension filter"
   ]
  },
  {
   "cell_type": "markdown",
   "metadata": {},
   "source": [
    "#### Add dimension filter\n",
    "- Rows : SubCategory ->right click -> show filter\n"
   ]
  },
  {
   "cell_type": "markdown",
   "metadata": {},
   "source": []
  },
  {
   "cell_type": "markdown",
   "metadata": {},
   "source": [
    "#### effect of context filter on dimenion filter \n",
    "- change defenition of context filter\n",
    "- datapane -> context filter(gray) -> right click -> edit filter -> add one more category \n",
    "- we can see more subcategory added on the right filter pane (dimension filter)\n",
    "\n"
   ]
  },
  {
   "cell_type": "markdown",
   "metadata": {},
   "source": [
    "- we cant use context filter to hide sensitive information\n",
    "- if we set a filter (germany) it wont show cities from germany \n",
    "- but on filter pane on right side there is a dropdown option pressing it we can choose -> all values in database\n"
   ]
  },
  {
   "cell_type": "markdown",
   "metadata": {},
   "source": [
    "### Dimension filters"
   ]
  },
  {
   "cell_type": "markdown",
   "metadata": {},
   "source": [
    "- general,wildcard(not case sensitive),condition,top"
   ]
  },
  {
   "cell_type": "markdown",
   "metadata": {},
   "source": [
    "### Measure Filters"
   ]
  },
  {
   "cell_type": "markdown",
   "metadata": {},
   "source": [
    "- drag a measure (here present in column)\n",
    "- new window -> tableau ask folter all data (on original values)? or on aggreagate values  ?\n",
    "- sum "
   ]
  },
  {
   "cell_type": "markdown",
   "metadata": {},
   "source": [
    "#### table calculation filter\n",
    "- sum(profit) to columns,(rows)category&subcategory ,sum(profit) to filters\n",
    "- colors (sum(profit)) - > Right click -> Quick table calculation -> Percent of total(triangular label appears) -> drag it to filter\n",
    "- a triangle represent table calculation filter\n"
   ]
  },
  {
   "cell_type": "markdown",
   "metadata": {},
   "source": [
    "### customizing filters\n",
    "- same filter on multiple work sheets\n",
    "   -  on filters pane of right side  -> choose a filter ->right click -> Apply to worksheets(only this worksheet -default)\n",
    "   - "
   ]
  },
  {
   "cell_type": "markdown",
   "metadata": {},
   "source": [
    "<img src=\"screenshots/fil.png\" alt=\"layers\" width=\"600\" height=\"400\">"
   ]
  },
  {
   "cell_type": "markdown",
   "metadata": {},
   "source": [
    "- problem : data blending doesnot work if secondary data source contains logical tables"
   ]
  },
  {
   "cell_type": "markdown",
   "metadata": {},
   "source": [
    "### Quick filters\n",
    "- users can use to interact with data \n",
    "- \n"
   ]
  },
  {
   "cell_type": "markdown",
   "metadata": {},
   "source": [
    "<img src=\"screenshots/quick_filters.png\" alt=\"layers\" width=\"600\" height=\"400\">"
   ]
  },
  {
   "cell_type": "code",
   "execution_count": null,
   "metadata": {
    "vscode": {
     "languageId": "plaintext"
    }
   },
   "outputs": [],
   "source": []
  },
  {
   "cell_type": "markdown",
   "metadata": {},
   "source": []
  }
 ],
 "metadata": {
  "language_info": {
   "name": "python"
  }
 },
 "nbformat": 4,
 "nbformat_minor": 2
}
