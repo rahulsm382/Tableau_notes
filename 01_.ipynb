{
 "cells": [
  {
   "cell_type": "markdown",
   "metadata": {},
   "source": [
    "\n",
    "<img src=\"screenshots/data_eng.png\" alt=\"data engineering\" width=\"400\" height=\"300\">\n"
   ]
  },
  {
   "cell_type": "markdown",
   "metadata": {},
   "source": [
    "<img src=\"screenshots/data_mod.png\" alt=\"data modeling\" width=\"400\" height=\"300\">"
   ]
  },
  {
   "cell_type": "markdown",
   "metadata": {},
   "source": [
    "<img src=\"screenshots/data_min.png\" alt=\"data mining\" width=\"400\" height=\"300\">"
   ]
  },
  {
   "cell_type": "markdown",
   "metadata": {},
   "source": []
  },
  {
   "cell_type": "markdown",
   "metadata": {},
   "source": [
    "### excel vs tableau\n",
    "- excel cant use for big data\n",
    "- data need to be export/import manually \n",
    "- can create schedule to refresh data in tableau.\n",
    "   - which can eliminate human errors\n",
    "   - no need for dedicated employees\n",
    "- capacity of excel is about 1 million records\n",
    "- excels security is compromisable\n",
    "- the principle - 'need to know'\n",
    "  - not all employees need to have access to all data \n",
    "  - in excel we have to create specific reports\n",
    "  - row level security is present in tableau\n",
    "- there can have many version of reports -> can lead to chaos\n",
    "   - modern bi tools have single point of truth\n",
    "- excel report preparation is time consuming and multiple  visuals are not interactive\n",
    "- \n"
   ]
  },
  {
   "cell_type": "markdown",
   "metadata": {},
   "source": [
    "#### A) high performance\n",
    "- using high performance in memory data engine \"HYPER\"\n",
    "<img src=\"screenshots/column_store.png\" alt=\"column store\" width=\"400\" height=\"300\">"
   ]
  },
  {
   "cell_type": "markdown",
   "metadata": {},
   "source": [
    "### How Columnar Storage Improves Tableau Performance\n",
    "\n",
    "Columnar storage enhances Tableau's performance, particularly with large datasets and complex queries. Here's how it benefits:\n",
    "\n",
    "#### 1. **Efficient Aggregations**\n",
    "   - Data is stored by column, allowing Tableau to read only the relevant columns when aggregating data (e.g., summing sales). This reduces the amount of data Tableau needs to process, speeding up the query.\n",
    "   \n",
    "   **Example:** Summing sales values requires reading only the `sales` column instead of scanning all columns.\n",
    "\n",
    "#### 2. **Faster Filtering**\n",
    "   - Columnar storage enables Tableau to quickly filter data by scanning only the necessary columns, reducing the I/O operations needed for filtering.\n",
    "\n",
    "   **Example:** Filtering by a `date` column only requires reading that column, improving filter speed.\n",
    "\n",
    "#### 3. **Better Compression**\n",
    "   - Storing data in columns of the same type allows for high compression rates, reducing the amount of data that needs to be read and improving retrieval speed.\n",
    "\n",
    "   **Example:** Compressed data means fewer reads from disk, speeding up queries.\n",
    "\n",
    "#### 4. **Reduced Memory Usage**\n",
    "   - Tableau only loads the columns required for a query or visualization, using significantly less memory than row-based systems where entire rows are loaded.\n",
    "\n",
    "   **Example:** Visualizing multiple metrics only loads relevant columns, reducing memory usage.\n",
    "\n",
    "#### 5. **Parallel Processing**\n",
    "   - Many columnar databases support parallel processing, allowing Tableau to execute queries faster by distributing workloads across multiple cores or machines.\n",
    "\n",
    "   **Example:** Complex queries and large datasets are processed faster due to parallelized operations.\n",
    "\n",
    "#### 6. **Faster Data Retrieval for Visualization**\n",
    "   - Tableau can quickly fetch only the necessary columns to render visualizations, reducing wait times for loading and updating dashboards.\n",
    "\n",
    "   **Example:** Only required columns for a chart are fetched, speeding up dashboard performance.\n",
    "\n",
    "#### Popular Columnar Databases:\n",
    "   - **Amazon Redshift**\n",
    "   - **Google BigQuery**\n",
    "   - **Snowflake**\n"
   ]
  },
  {
   "cell_type": "markdown",
   "metadata": {},
   "source": []
  }
 ],
 "metadata": {
  "language_info": {
   "name": "python"
  }
 },
 "nbformat": 4,
 "nbformat_minor": 2
}
